{
 "cells": [
  {
   "cell_type": "markdown",
   "id": "f5309bcc",
   "metadata": {},
   "source": [
    "# Question 4 and 5"
   ]
  },
  {
   "cell_type": "markdown",
   "id": "ef1c4673",
   "metadata": {},
   "source": [
    "## Data Cleaning"
   ]
  },
  {
   "cell_type": "code",
   "execution_count": 137,
   "id": "9a7e18d0",
   "metadata": {},
   "outputs": [],
   "source": [
    "import pandas as pd\n",
    "import numpy as np\n",
    "import warnings\n",
    "import scorecardpy as sc\n",
    "from string import ascii_letters\n",
    "\n",
    "import seaborn as sns\n",
    "import matplotlib.pyplot as plt\n",
    "warnings.filterwarnings(\"ignore\")\n",
    "from sklearn.model_selection import train_test_split\n",
    "import utils\n",
    "\n",
    "\n",
    "application = pd.read_csv('/Users/will/Documents/GitHub/consumer-credit-risk/coursework2_application_sampled.csv')\n",
    "performance = pd.read_csv('/Users/will/Documents/GitHub/consumer-credit-risk/coursework2_performance_data_sampled.csv')\n",
    "\n",
    "# merge the data from the two csvs\n",
    "data_full = performance.merge(application, on='LOAN SEQUENCE NUMBER', how='left')\n",
    "\n",
    "# change monthly reoprting period to datetime\n",
    "data_full['MONTHLY REPORTING PERIOD'] = pd.to_datetime(data_full['MONTHLY REPORTING PERIOD'], format='%Y%m')\n",
    "\n",
    "# if column value is RA then it is 3\n",
    "data_full['CURRENT LOAN DELINQUENCY STATUS'] = data_full['CURRENT LOAN DELINQUENCY STATUS'].apply(lambda x: 3 if x == 'RA' else x)\n",
    "\n",
    "# change to int\n",
    "data_full['CURRENT LOAN DELINQUENCY STATUS'] = data_full['CURRENT LOAN DELINQUENCY STATUS'].astype(int)\n",
    "# change the column CURRENT LOAN DELINQUENCY STATUS\n",
    "# slide 13 4 intro to analytics\n",
    "# if value is less then 3 then it is 0 # else it is 1 # zero represents no default # one represents default\n",
    "data_full['DEFAULT'] = data_full['CURRENT LOAN DELINQUENCY STATUS'].apply(lambda x: 0 if x < 3 else 1)\n",
    "\n",
    "# select only the rows where ZERO BALANCE REMOVAL UPB is not null\n",
    "data_full = data_full[data_full['ZERO BALANCE REMOVAL UPB'].notnull()]\n",
    "\n",
    "data_full['LGD'] = data_full['ACTUAL LOSS CALCULATION']/data_full['ZERO BALANCE REMOVAL UPB'] \n",
    "\n",
    "########### data cleaning ###########\n",
    "data_full['CUMULATIVE MODIFICATION COST'].fillna(0, inplace=True)\n",
    "data_full['STEP MODIFICATION FLAG'].fillna('Not modified', inplace=True)\n",
    "data_full['PAYMENT DEFERRAL'].fillna('Not payment deferral', inplace=True)\n",
    "data_full['DELINQUENT ACCRUED INTEREST'].fillna(0, inplace=True)\n",
    "data_full['DELINQUENCY DUE TO DISASTER'].fillna('N', inplace=True)\n",
    "data_full['BORROWER ASSISTANCE STATUS CODE'].fillna('N', inplace=True)\n",
    "data_full['CURRENT MONTH MODIFICATION COST'].fillna(0, inplace=True)\n",
    "data_full['RELIEF REFINANCE INDICATOR'].fillna('N', inplace=True)\n",
    "data_full['SUPER CONFORMING FLAG'].fillna('N', inplace=True)\n",
    "data_full['METROPOLITAN STATISTICAL AREA (MSA) OR METROPOLITAN DIVISION'].fillna('unknown', inplace=True)\n",
    "\n",
    "# Replace specific missing values with 'np.nan'\n",
    "missing_value_map = {\n",
    "    'CREDIT SCORE': [9999],\n",
    "    'FIRST TIME HOMEBUYER FLAG': [9],\n",
    "    'MI PERCENT': [999],\n",
    "    'NUMBER OF UNITS': [99],\n",
    "    'OCCUPANCY STATUS': [9],\n",
    "    'ORIGINAL CLTV': [999],\n",
    "    'ORIGINAL DTI RATIO': [999],\n",
    "    'ORIGINAL LTV': [999],\n",
    "    'CHANNEL': [9],\n",
    "    'PROPERTY TYPE': [99],\n",
    "    'LOAN PURPOSE': [9],\n",
    "    'NUMBER OF BORROWERS': [99],\n",
    "    'PROGRAM INDICATOR': [9],\n",
    "    'PROPERTY VALUATION METHOD': [9],\n",
    "    'MI CANCELLATION INDICATOR': [9, 7]\n",
    "}\n",
    "\n",
    "for column, values in missing_value_map.items():\n",
    "    if column in data_full.columns:\n",
    "        data_full[column] = data_full[column].replace(values, np.nan)\n",
    "\n",
    "\n",
    "# List of columns to convert to datetime\n",
    "date_columns = [\n",
    "    'MONTHLY REPORTING PERIOD', \n",
    "    'FIRST PAYMENT DATE', \n",
    "    'MATURITY DATE'\n",
    "]\n",
    "\n",
    "# Convert the specified columns to datetime\n",
    "for column in date_columns:\n",
    "    if column in data_full.columns:\n",
    "        data_full[column] = pd.to_datetime(data_full[column], errors='coerce')\n",
    "\n",
    "# drop the rows where the ACTUAL LOSS CALCULATION is null\n",
    "data_full = data_full[data_full['ACTUAL LOSS CALCULATION'].notnull()]\n",
    "\n",
    "# handle null values\n",
    "data_full['DEFECT SETTLEMENT DATE'].fillna('unknown', inplace=True)  # Replace with 'unknown' or an appropriate value\n",
    "data_full['MODIFICATION FLAG'].fillna('N', inplace=True)  # Replace with 'N' (assuming 'N' means no modification)\n",
    "data_full['PRE-RELIEF REFINANCE LOAN SEQUENCE NUMBER'].fillna('N', inplace=True)  # Replace with 0 or another default value\n",
    "data_full['PROPERTY VALUATION METHOD'].fillna('unknown', inplace=True)  # Replace with 'unknown' or an appropriate value\n",
    "\n",
    "# change the object type columns to category\n",
    "cat_columns = data_full.select_dtypes(include=['object']).columns\n",
    "for column in cat_columns:\n",
    "    data_full[column] = data_full[column].astype('category')\n",
    "    data_full[column] = data_full[column].astype('category')\n",
    "\n",
    "\n",
    "# make training data\n",
    "data_full_in_time = data_full[data_full['MONTHLY REPORTING PERIOD'] < '2022-06-01']\n",
    "\n",
    "# make out of time data\n",
    "data_full_oot = data_full[data_full['MONTHLY REPORTING PERIOD'] == '2023-06-01']\n",
    "\n",
    "# remove columns that arent needed\n",
    "data_full_in_time.drop(columns=['MONTHLY REPORTING PERIOD', 'MATURITY DATE', 'SELLER NAME', 'FIRST PAYMENT DATE', 'SERVICER NAME',\n",
    "                        'DUE DATE OF LAST PAID INSTALLMENT (DDLPI)', 'MI RECOVERIES',\n",
    "                        'NET SALE PROCEEDS', 'NON MI RECOVERIES', 'TOTAL EXPENSES',\n",
    "                        'LEGAL COSTS', 'MAINTENANCE AND PRESERVATION COSTS',\n",
    "                        'TAXES AND INSURANCE', 'MISCELLANEOUS EXPENSES','ACTUAL LOSS CALCULATION'], inplace=True)\n",
    "\n",
    "# remove columns that arent needed\n",
    "data_full_oot.drop(columns=['MONTHLY REPORTING PERIOD', 'MATURITY DATE', 'SELLER NAME', 'FIRST PAYMENT DATE', 'SERVICER NAME',\n",
    "                        'DUE DATE OF LAST PAID INSTALLMENT (DDLPI)', 'MI RECOVERIES',\n",
    "                        'NET SALE PROCEEDS', 'NON MI RECOVERIES', 'TOTAL EXPENSES',\n",
    "                        'LEGAL COSTS', 'MAINTENANCE AND PRESERVATION COSTS',\n",
    "                        'TAXES AND INSURANCE', 'MISCELLANEOUS EXPENSES','ACTUAL LOSS CALCULATION'], inplace=True)\n",
    "\n",
    "# Split the data into features and target\n",
    "X = data_full_in_time.drop(columns=['LGD'])\n",
    "y = data_full_in_time['LGD']\n",
    "\n",
    "# split the data into features and target for oot\n",
    "X_oot = data_full_oot.drop(columns=['LGD'])\n",
    "y_oot = data_full_oot['LGD']\n",
    "\n",
    "# do split test train but do it by the LOAN SEQUENCE NUMBER\n",
    "X_train, X_test, y_train, y_test = utils.train_test_split_by_group(X, y, 'LOAN SEQUENCE NUMBER', test_size=0.2,  random_state=42)\n",
    "\n",
    "# remove the LOAN SEQUENCE NUMBER from the train and test data\n",
    "X_train.drop(columns=['LOAN SEQUENCE NUMBER'], inplace=True)\n",
    "X_test.drop(columns=['LOAN SEQUENCE NUMBER'], inplace=True)\n",
    "X_oot.drop(columns=['LOAN SEQUENCE NUMBER'], inplace=True)\n",
    "\n",
    "X_train = pd.get_dummies(X_train, drop_first=True)\n",
    "X_test = pd.get_dummies(X_test, drop_first=True)\n",
    "X_oot = pd.get_dummies(X_oot, drop_first=True)"
   ]
  },
  {
   "cell_type": "code",
   "execution_count": 138,
   "id": "6d3b4aea",
   "metadata": {},
   "outputs": [],
   "source": [
    "from sklearn.preprocessing import StandardScaler\n",
    "\n",
    "# Select only numeric columns\n",
    "numeric_cols = X_train.select_dtypes(include=['float64', 'int64']).columns\n",
    "\n",
    "# Scale numeric columns only\n",
    "scaler = StandardScaler()\n",
    "X_train_scaled = X_train.copy()\n",
    "X_train_scaled[numeric_cols] = scaler.fit_transform(X_train[numeric_cols])\n",
    "\n",
    "X_test_scaled = X_test.copy()\n",
    "X_test_scaled[numeric_cols] = scaler.transform(X_test[numeric_cols])\n",
    "\n",
    "# scale out of time\n",
    "X_oot_scaled = X_oot.copy()\n",
    "X_oot_scaled[numeric_cols] = scaler.transform(X_oot[numeric_cols])"
   ]
  },
  {
   "cell_type": "code",
   "execution_count": 111,
   "id": "f925b3ab",
   "metadata": {},
   "outputs": [],
   "source": [
    "# get the top correlations with the target\n",
    "correlations = data_full_in_time.corr()['LGD'].sort_values(ascending=False)\n",
    "\n",
    "#correlations"
   ]
  },
  {
   "cell_type": "markdown",
   "id": "f254abe8",
   "metadata": {},
   "source": [
    "## XGBoosting"
   ]
  },
  {
   "cell_type": "code",
   "execution_count": 127,
   "id": "c71ad268",
   "metadata": {},
   "outputs": [
    {
     "name": "stdout",
     "output_type": "stream",
     "text": [
      "Best XGBoost parameters: {'learning_rate': 0.25, 'max_depth': 2}\n",
      "\n",
      " XGB Train Performance:\n",
      "MSE: 0.014870586450071588\n",
      "\n",
      " XGB Test Performance:\n",
      "MSE: 0.03992619377724281\n"
     ]
    }
   ],
   "source": [
    "from xgboost import XGBRegressor\n",
    "from sklearn.model_selection import GridSearchCV\n",
    "from sklearn.metrics import mean_squared_error, r2_score\n",
    "\n",
    "#xgb = XGBRegressor(objective='reg:squarederror', random_state=42, enable_categorical=True)\n",
    "\n",
    "xgb = XGBRegressor(max_depth=2,                 # Depth of each tree\n",
    "                      learning_rate=0.1,            # How much to shrink error in each subsequent training. Trade-off with no. estimators.\n",
    "                      n_estimators=150,             # How many trees to use, the more the better, but decrease learning rate if many used.\n",
    "                      verbosity=1,                  # If to show more errors or not.\n",
    "                      objective='reg:squarederror',  # Type of target variable.\n",
    "                      booster='gbtree',             # What to boost. Trees in this case.\n",
    "                      n_jobs=2,                    # Parallel jobs to run. Set your processor number.\n",
    "                      gamma=0.001,                  # Minimum loss reduction required to make a further partition on a leaf node of the tree. (Controls growth!)\n",
    "                      subsample=0.632,              # Subsample ratio. Can set lower\n",
    "                      colsample_bytree=1,           # Subsample ratio of columns when constructing each tree.\n",
    "                      colsample_bylevel=1,          # Subsample ratio of columns when constructing each level. 0.33 is similar to random forest.\n",
    "                      colsample_bynode=1,           # Subsample ratio of columns when constructing each split.\n",
    "                      reg_alpha=1,                  # Regularizer for first fit. alpha = 1, lambda = 0 is LASSO.\n",
    "                      reg_lambda=0,                 # Regularizer for first fit.\n",
    "                      random_state=20230331,        # Seed\n",
    "                      tree_method='hist',           # How to train the trees?\n",
    "                      #gpu_id=0                     # With which GPU?\n",
    "                      eval_metric=mean_squared_error, # Metric used for monitoring the training result and early stopping.\n",
    "                      #enable_categorical=True\n",
    "                      #early_stopping_rounds=5 #  Validation metric needs to improve at least once in every early_stopping_rounds round(s) to continue training.\n",
    "                      )\n",
    "\n",
    "param_grid = {      \n",
    "    'max_depth': [1,2,3],               \n",
    "    'learning_rate': [0.25, 0.3, 0.35, 0.4]       \n",
    "}\n",
    "\n",
    "grid_search_xgb = GridSearchCV(\n",
    "    estimator=xgb,\n",
    "    param_grid=param_grid,\n",
    "    cv=5,\n",
    "    scoring='r2',\n",
    "    verbose=0\n",
    ")\n",
    "\n",
    "grid_search_xgb.fit(X_train_scaled, y_train)\n",
    "\n",
    "best_xgb = grid_search_xgb.best_estimator_\n",
    "print(\"Best XGBoost parameters:\", grid_search_xgb.best_params_)\n",
    "\n",
    "y_pred_xgb_train = best_xgb.predict(X_train_scaled)\n",
    "y_pred_xgb_test = best_xgb.predict(X_test_scaled)\n",
    "\n",
    "print(\"\\n XGB Train Performance:\")\n",
    "print(f\"MSE: {mean_squared_error(y_train, y_pred_xgb_train):}\")\n",
    "\n",
    "print(\"\\n XGB Test Performance:\")\n",
    "print(f\"MSE: {mean_squared_error(y_test, y_pred_xgb_test):}\")\n",
    "\n",
    "\n"
   ]
  },
  {
   "cell_type": "code",
   "execution_count": 128,
   "id": "fd817ad3",
   "metadata": {},
   "outputs": [
    {
     "data": {
      "text/plain": [
       "<Figure size 720x576 with 0 Axes>"
      ]
     },
     "metadata": {},
     "output_type": "display_data"
    },
    {
     "data": {
      "image/png": "[encoded data removed]",
      "text/plain": [
       "<Figure size 432x288 with 1 Axes>"
      ]
     },
     "metadata": {
      "needs_background": "light"
     },
     "output_type": "display_data"
    }
   ],
   "source": [
    "# get the xgboost feature importance\n",
    "import matplotlib.pyplot as plt\n",
    "from xgboost import plot_importance\n",
    "plt.figure(figsize=(10, 8))\n",
    "plot_importance(best_xgb, max_num_features=20, importance_type='weight', title='Feature Importance (Weight)', xlabel='F score')\n",
    "plt.show()\n"
   ]
  },
  {
   "cell_type": "code",
   "execution_count": null,
   "id": "125eea63",
   "metadata": {},
   "outputs": [],
   "source": [
    "import shap\n",
    "\n",
    "# Create SHAP explainer from fitted model\n",
    "explainer = shap.Explainer(best_xgb, X_test_scaled)\n",
    "\n",
    "# Compute SHAP values\n",
    "shap_values = explainer(X_test)\n",
    "\n",
    "# Summary plot (variable importance overall)\n",
    "shap.summary_plot(shap_values, X_test)\n",
    "\n",
    "# Automatically get top 5 important variables\n",
    "top5_features = shap_values.abs.mean(0).values.argsort()[-5:][::-1]\n",
    "top5_names = X_test.columns[top5_features]\n",
    "\n",
    "# Draw SHAP dependence plots\n",
    "for feature in top5_names:\n",
    "    shap.dependence_plot(feature, shap_values.values, X_test, show=True)"
   ]
  },
  {
   "cell_type": "code",
   "execution_count": 143,
   "id": "40c59b80",
   "metadata": {},
   "outputs": [
    {
     "data": {
      "text/plain": [
       "array([0.74663657, 0.10900989, 0.55410117, 0.27629083, 0.67047036,\n",
       "       0.25096098, 0.17946354, 0.1       , 0.29661018, 0.1       ,\n",
       "       0.1447469 , 0.39284882, 0.13527136, 0.12037282, 0.1       ,\n",
       "       0.17986566, 0.1       , 0.11698104, 0.42937383, 0.42316765,\n",
       "       0.2985974 , 0.5707453 , 0.4158043 , 0.13714007, 0.1       ,\n",
       "       0.28085005, 0.16899854, 0.1       , 0.1       , 0.2234058 ,\n",
       "       0.1       , 0.6149412 , 0.23257107, 0.10638124, 0.25382572,\n",
       "       0.1       , 0.28148347, 0.33614406, 0.1       , 0.12207271,\n",
       "       0.1       , 0.11761606, 0.1       , 0.34275064, 0.46674415,\n",
       "       0.12947889, 0.1       , 0.13087681, 0.24420124, 0.1       ,\n",
       "       0.13194497, 0.1       , 0.1       , 0.1       , 0.1       ,\n",
       "       0.1453981 , 0.1       , 0.1       , 0.1       ], dtype=float32)"
      ]
     },
     "execution_count": 143,
     "metadata": {},
     "output_type": "execute_result"
    }
   ],
   "source": [
    "# apply to the out of time data\n",
    "\n",
    "\n",
    "y_pred_xgb_oot = np.abs(best_xgb.predict(X_oot_scaled))\n",
    "\n",
    "# if pred is less than 0.1 then set it to 0.1\n",
    "y_pred_xgb_oot[y_pred_xgb_oot < 0.1] = 0.1\n",
    "\n",
    "y_pred_xgb_oot\n",
    "\n",
    "\n"
   ]
  },
  {
   "cell_type": "markdown",
   "id": "1b7d9f7b",
   "metadata": {},
   "source": [
    "## Question 5"
   ]
  },
  {
   "cell_type": "code",
   "execution_count": 144,
   "id": "4b666604",
   "metadata": {},
   "outputs": [],
   "source": [
    "# Number of simulations\n",
    "n_simulations = 10000\n",
    "\n",
    "# Generate random haircut values (uniform distribution between 40% and 60%)\n",
    "haircuts = np.random.uniform(0.4, 0.6, size=(len(y_pred_xgb_oot), n_simulations))\n",
    "\n",
    "# Extract PD (Probability of Default) from the DEFAULT column\n",
    "# Assuming DEFAULT column is binary: 1 = default, 0 = no default\n",
    "pd_values = data_full_oot['DEFAULT'].values\n",
    "\n",
    "# LGD predictions (from XGBoost model)\n",
    "lgd_values = y_pred_xgb_oot\n",
    "\n",
    "# Calculate provisions for each simulation\n",
    "# Provision = PD * LGD * (1 - Haircut)\n",
    "provisions = pd_values[:, None] * lgd_values[:, None] * (1 - haircuts)\n",
    "\n",
    "# Sum provisions across all mortgages for each simulation (portfolio-level provisions)\n",
    "portfolio_provisions = provisions.sum(axis=0)"
   ]
  },
  {
   "cell_type": "code",
   "execution_count": 145,
   "id": "9eb0bfbc",
   "metadata": {},
   "outputs": [
    {
     "name": "stdout",
     "output_type": "stream",
     "text": [
      "Mean Portfolio Provision: 5.07\n",
      "Standard Deviation of Provisions: 0.11\n",
      "5th Percentile: 4.89\n",
      "25th Percentile: 5.00\n",
      "Median (50th Percentile): 5.07\n",
      "75th Percentile: 5.15\n",
      "95th Percentile: 5.26\n"
     ]
    },
    {
     "data": {
      "image/png": "[encoded data removed]",
      "text/plain": [
       "<Figure size 720x432 with 1 Axes>"
      ]
     },
     "metadata": {
      "needs_background": "light"
     },
     "output_type": "display_data"
    }
   ],
   "source": [
    "# Analyze the distribution of portfolio provisions\n",
    "mean_provision = np.mean(portfolio_provisions)\n",
    "std_provision = np.std(portfolio_provisions)\n",
    "percentiles = np.percentile(portfolio_provisions, [5, 25, 50, 75, 95])\n",
    "\n",
    "print(f\"Mean Portfolio Provision: {mean_provision:.2f}\")\n",
    "print(f\"Standard Deviation of Provisions: {std_provision:.2f}\")\n",
    "print(f\"5th Percentile: {percentiles[0]:.2f}\")\n",
    "print(f\"25th Percentile: {percentiles[1]:.2f}\")\n",
    "print(f\"Median (50th Percentile): {percentiles[2]:.2f}\")\n",
    "print(f\"75th Percentile: {percentiles[3]:.2f}\")\n",
    "print(f\"95th Percentile: {percentiles[4]:.2f}\")\n",
    "\n",
    "# Plot the distribution of portfolio provisions\n",
    "plt.figure(figsize=(10, 6))\n",
    "plt.hist(portfolio_provisions, bins=50, color='blue', alpha=0.7)\n",
    "plt.title(\"Distribution of Portfolio Provisions\")\n",
    "plt.xlabel(\"Portfolio Provision\")\n",
    "plt.ylabel(\"Frequency\")\n",
    "plt.grid(True)\n",
    "plt.show()"
   ]
  },
  {
   "cell_type": "code",
   "execution_count": 146,
   "id": "6d9539f2",
   "metadata": {},
   "outputs": [
    {
     "name": "stdout",
     "output_type": "stream",
     "text": [
      "Portfolio Provision with 40% Haircut: 6.09\n",
      "Portfolio Provision with 60% Haircut: 4.06\n",
      "Difference in Provisions (Sensitivity): -2.03\n"
     ]
    }
   ],
   "source": [
    "# Sensitivity analysis: Compare provisions for extreme haircut values\n",
    "haircut_low = 0.4\n",
    "haircut_high = 0.6\n",
    "\n",
    "provisions_low_haircut = pd_values * lgd_values * (1 - haircut_low)\n",
    "provisions_high_haircut = pd_values * lgd_values * (1 - haircut_high)\n",
    "\n",
    "portfolio_provision_low = provisions_low_haircut.sum()\n",
    "portfolio_provision_high = provisions_high_haircut.sum()\n",
    "\n",
    "print(f\"Portfolio Provision with 40% Haircut: {portfolio_provision_low:.2f}\")\n",
    "print(f\"Portfolio Provision with 60% Haircut: {portfolio_provision_high:.2f}\")\n",
    "print(f\"Difference in Provisions (Sensitivity): {portfolio_provision_high - portfolio_provision_low:.2f}\")"
   ]
  },
  {
   "cell_type": "code",
   "execution_count": 147,
   "id": "9385781e",
   "metadata": {},
   "outputs": [
    {
     "name": "stdout",
     "output_type": "stream",
     "text": [
      "   Haircut  Portfolio_Provision\n",
      "0     0.30             7.101945\n",
      "1     0.35             6.594663\n",
      "2     0.40             6.087382\n",
      "3     0.45             5.580100\n",
      "4     0.50             5.072818\n",
      "5     0.55             4.565536\n",
      "6     0.60             4.058254\n",
      "7     0.65             3.550973\n",
      "8     0.70             3.043691\n"
     ]
    },
    {
     "data": {
      "image/png": "[encoded data removed]",
      "text/plain": [
       "<Figure size 720x432 with 1 Axes>"
      ]
     },
     "metadata": {
      "needs_background": "light"
     },
     "output_type": "display_data"
    },
    {
     "name": "stdout",
     "output_type": "stream",
     "text": [
      "Minimum Portfolio Provision: 3.04\n",
      "Maximum Portfolio Provision: 7.10\n",
      "Percentage Change in Provisions: 133.33%\n"
     ]
    }
   ],
   "source": [
    "# Expanded range of haircut values for sensitivity analysis\n",
    "haircut_values = np.linspace(0.3, 0.7, 9)  # Haircuts from 30% to 70% in 5% increments\n",
    "\n",
    "# Calculate portfolio provisions for each haircut value\n",
    "portfolio_provisions_sensitivity = []\n",
    "for haircut in haircut_values:\n",
    "    provisions = pd_values * lgd_values * (1 - haircut)\n",
    "    portfolio_provisions_sensitivity.append(provisions.sum())\n",
    "\n",
    "# Convert results to a DataFrame for easier visualization\n",
    "sensitivity_df = pd.DataFrame({\n",
    "    'Haircut': haircut_values,\n",
    "    'Portfolio_Provision': portfolio_provisions_sensitivity\n",
    "})\n",
    "\n",
    "# Print the sensitivity results\n",
    "print(sensitivity_df)\n",
    "\n",
    "# Plot the sensitivity analysis\n",
    "plt.figure(figsize=(10, 6))\n",
    "plt.plot(sensitivity_df['Haircut'], sensitivity_df['Portfolio_Provision'], marker='o', color='blue', label='Portfolio Provision')\n",
    "plt.title(\"Sensitivity Analysis: Portfolio Provisions vs. Haircut Values\")\n",
    "plt.xlabel(\"Haircut Value\")\n",
    "plt.ylabel(\"Portfolio Provision\")\n",
    "plt.grid(True)\n",
    "plt.legend()\n",
    "plt.show()\n",
    "\n",
    "# Quantify the impact of haircut changes\n",
    "min_provision = sensitivity_df['Portfolio_Provision'].min()\n",
    "max_provision = sensitivity_df['Portfolio_Provision'].max()\n",
    "percentage_change = ((max_provision - min_provision) / min_provision) * 100\n",
    "\n",
    "print(f\"Minimum Portfolio Provision: {min_provision:.2f}\")\n",
    "print(f\"Maximum Portfolio Provision: {max_provision:.2f}\")\n",
    "print(f\"Percentage Change in Provisions: {percentage_change:.2f}%\")"
   ]
  }
 ],
 "metadata": {
  "kernelspec": {
   "display_name": "Python",
   "language": "python",
   "name": "python3"
  },
  "language_info": {
   "codemirror_mode": {
    "name": "ipython",
    "version": 3
   },
   "file_extension": ".py",
   "mimetype": "text/x-python",
   "name": "python",
   "nbconvert_exporter": "python",
   "pygments_lexer": "ipython3",
   "version": "3.9.12"
  }
 },
 "nbformat": 4,
 "nbformat_minor": 5
}
