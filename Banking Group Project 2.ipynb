{
 "cells": [
  {
   "cell_type": "markdown",
   "id": "c2a55cd6",
   "metadata": {},
   "source": [
    "## Data Cleaning"
   ]
  },
  {
   "cell_type": "code",
   "execution_count": null,
   "id": "d3e2f1b6",
   "metadata": {},
   "outputs": [],
   "source": [
    "import pandas as pd\n",
    "import numpy as np\n",
    "import warnings\n",
    "import scorecardpy as sc\n",
    "from string import ascii_letters\n",
    "\n",
    "import seaborn as sns\n",
    "import matplotlib.pyplot as plt\n",
    "warnings.filterwarnings(\"ignore\")\n",
    "from sklearn.model_selection import train_test_split\n",
    "import utils\n",
    "\n",
    "\n",
    "application = pd.read_csv('/Users/will/Documents/GitHub/consumer-credit-risk/coursework2_application_sampled.csv')\n",
    "performance = pd.read_csv('/Users/will/Documents/GitHub/consumer-credit-risk/coursework2_performance_data_sampled.csv')\n",
    "\n",
    "# merge the data from the two csvs\n",
    "data_full = performance.merge(application, on='LOAN SEQUENCE NUMBER', how='left')\n",
    "\n",
    "# change monthly reoprting period to datetime\n",
    "data_full['MONTHLY REPORTING PERIOD'] = pd.to_datetime(data_full['MONTHLY REPORTING PERIOD'], format='%Y%m')\n",
    "\n",
    "# if column value is RA then it is 3\n",
    "data_full['CURRENT LOAN DELINQUENCY STATUS'] = data_full['CURRENT LOAN DELINQUENCY STATUS'].apply(lambda x: 3 if x == 'RA' else x)\n",
    "\n",
    "# change to int\n",
    "data_full['CURRENT LOAN DELINQUENCY STATUS'] = data_full['CURRENT LOAN DELINQUENCY STATUS'].astype(int)\n",
    "# change the column CURRENT LOAN DELINQUENCY STATUS\n",
    "# slide 13 4 intro to analytics\n",
    "# if value is less then 3 then it is 0 # else it is 1 # zero represents no default # one represents default\n",
    "data_full['DEFAULT'] = data_full['CURRENT LOAN DELINQUENCY STATUS'].apply(lambda x: 0 if x < 3 else 1)\n",
    "\n",
    "########### data cleaning ###########\n",
    "# if zero balance code is 1 then remove the row\n",
    "data_full = data_full[~(data_full['ZERO BALANCE CODE'] == 1)]\n",
    "\n",
    "# remove the rows where CURRENT ACTUAL UPB is 0\n",
    "data_full = data_full[~(data_full['CURRENT ACTUAL UPB'] == 0)]\n",
    "\n",
    "\n",
    "\n",
    "data_full['CUMULATIVE MODIFICATION COST'].fillna(0, inplace=True)\n",
    "data_full['STEP MODIFICATION FLAG'].fillna('Not modified', inplace=True)\n",
    "data_full['PAYMENT DEFERRAL'].fillna('Not payment deferral', inplace=True)\n",
    "data_full['DELINQUENT ACCRUED INTEREST'].fillna(0, inplace=True)\n",
    "data_full['DELINQUENCY DUE TO DISASTER'].fillna('N', inplace=True)\n",
    "data_full['BORROWER ASSISTANCE STATUS CODE'].fillna('N', inplace=True)\n",
    "data_full['CURRENT MONTH MODIFICATION COST'].fillna(0, inplace=True)\n",
    "data_full['RELIEF REFINANCE INDICATOR'].fillna('N', inplace=True)\n",
    "data_full['SUPER CONFORMING FLAG'].fillna('N', inplace=True)\n",
    "data_full['METROPOLITAN STATISTICAL AREA (MSA) OR METROPOLITAN DIVISION'].fillna('unknown', inplace=True).as_type(str)\n",
    "\n",
    "# drop DEFECT SETTLEMENT DATE\n",
    "data_full.drop(columns=['DEFECT SETTLEMENT DATE'], inplace=True)\n",
    "\n",
    "# drop the columns with more than 90% missing values\n",
    "data_full = data_full.loc[:, data_full.isnull().mean() <= 0.9]\n",
    "\n",
    "# drop the rows with all 0 values\n",
    "data_full = data_full.loc[:, (data_full != 0).any(axis=0)]\n",
    "\n",
    "# Replace specific missing values with 'np.nan'\n",
    "missing_value_map = {\n",
    "    'CREDIT SCORE': [9999],\n",
    "    'FIRST TIME HOMEBUYER FLAG': [9],\n",
    "    'MI PERCENT': [999],\n",
    "    'NUMBER OF UNITS': [99],\n",
    "    'OCCUPANCY STATUS': [9],\n",
    "    'ORIGINAL CLTV': [999],\n",
    "    'ORIGINAL DTI RATIO': [999],\n",
    "    'ORIGINAL LTV': [999],\n",
    "    'CHANNEL': [9],\n",
    "    'PROPERTY TYPE': [99],\n",
    "    'LOAN PURPOSE': [9],\n",
    "    'NUMBER OF BORROWERS': [99],\n",
    "    'PROGRAM INDICATOR': [9],\n",
    "    'PROPERTY VALUATION METHOD': [9],\n",
    "    'MI CANCELLATION INDICATOR': [9, 7]\n",
    "}\n",
    "\n",
    "for column, values in missing_value_map.items():\n",
    "    if column in data_full.columns:\n",
    "        data_full[column] = data_full[column].replace(values, np.nan)\n",
    "\n",
    "\n",
    "# List of columns to convert to datetime\n",
    "date_columns = [\n",
    "    'MONTHLY REPORTING PERIOD', \n",
    "    'FIRST PAYMENT DATE', \n",
    "    'MATURITY DATE'\n",
    "]\n",
    "\n",
    "# Convert the specified columns to datetime\n",
    "for column in date_columns:\n",
    "    if column in data_full.columns:\n",
    "        data_full[column] = pd.to_datetime(data_full[column], errors='coerce')\n",
    "\n",
    "###### feature engineering ########\n",
    "\n",
    "# add boolean for whether loan in delinquency or not \n",
    "data_full['DELINQUENCY'] = data_full['CURRENT LOAN DELINQUENCY STATUS'].apply(lambda x : 1 if x != 0 else 0)\n",
    "\n",
    "# cum sum of the delinquency status\n",
    "data_full['DEFAULT CUM SUM'] = data_full.groupby('LOAN SEQUENCE NUMBER')['DEFAULT'].cumsum()\n",
    "\n",
    "# last month current loan deliquency status as category\n",
    "data_full['LAST MONTH DELINQUENCY STATUS'] = data_full.groupby('LOAN SEQUENCE NUMBER')['CURRENT LOAN DELINQUENCY STATUS'].shift(1).fillna(0)\n",
    "\n",
    "# rolling 12 months time in deliquency\n",
    "data_full['MONTHS IN DELINQUENCY PAST 12'] = data_full.groupby('LOAN SEQUENCE NUMBER')['DELINQUENCY'].rolling(12, min_periods=1).sum().reset_index(drop=True)\n",
    "\n",
    "# make a function that takes in a pd.series of zeroes and ones and then returns a new series with every 12 before the ones being ones as well\n",
    "def default_next_12(default_vector):\n",
    "     \n",
    "    if np.where(default_vector==1)[0].size==0:\n",
    "        return default_vector\n",
    "     \n",
    "    first_default = np.where(default_vector==1)[0][0]\n",
    "    defualt_next_12_vector = np.zeros(len(default_vector))\n",
    "    defualt_next_12_vector[max(0,first_default-12):] = 1\n",
    "\n",
    "    return(defualt_next_12_vector)\n",
    "\n",
    "default_next_12_col = []\n",
    "\n",
    "# group the data by LOAN SEQUENCE NUMBER\n",
    "for _, group in data_full.groupby('LOAN SEQUENCE NUMBER'):\n",
    "    default_next_12_series = default_next_12(group['DEFAULT'])\n",
    "\n",
    "    default_next_12_col.extend(default_next_12_series)\n",
    "\n",
    "data_full['DEFAULT_NEXT_12'] = [x == 1 for x in default_next_12_col]\n",
    "\n",
    "# remove rows where the cumsum != 0\n",
    "data_full = data_full[data_full['DEFAULT CUM SUM'] == 0]\n",
    "\n",
    "# make data\n",
    "data_full_train = data_full[data_full['MONTHLY REPORTING PERIOD'] < '2022-06-01']\n",
    "\n",
    "# make out of time data\n",
    "data_full_oot = data_full[data_full['MONTHLY REPORTING PERIOD'] == '2023-06-01']\n",
    "\n",
    "# remove columns that arent needed\n",
    "data_full.drop(columns=['MONTHLY REPORTING PERIOD', 'DEFAULT CUM SUM',\n",
    "                        'MATURITY DATE', 'SELLER NAME', 'FIRST PAYMENT DATE', 'SERVICER NAME',\n",
    "                        'MONTHLY REPORTING PERIOD', 'FIRST PAYMENT DATE', 'MATURITY DATE'], inplace=True)\n",
    "\n",
    "# Split the data into features and target\n",
    "X = data_full_train.drop(columns=['DEFAULT_NEXT_12'])\n",
    "y = data_full_train['DEFAULT_NEXT_12']\n",
    "\n",
    "# do split test train but do it by the LOAN SEQUENCE NUMBER\n",
    "X_train, X_test, y_train, y_test = utils.train_test_split_by_group(X, y, 'LOAN SEQUENCE NUMBER', test_size=0.2,  random_state=42)\n",
    "\n",
    "# remove the LOAN SEQUENCE NUMBER from the train and test data\n",
    "X_train.drop(columns=['LOAN SEQUENCE NUMBER'], inplace=True)\n",
    "X_test.drop(columns=['LOAN SEQUENCE NUMBER'], inplace=True)\n",
    "\n",
    "# combine the train and test data\n",
    "X_train['DEFAULT_NEXT_12'] = y_train\n",
    "X_test['DEFAULT_NEXT_12'] = y_test\n",
    "\n",
    "\n"
   ]
  },
  {
   "cell_type": "markdown",
   "id": "b4fc7605",
   "metadata": {},
   "source": [
    "## Weight of Evidence"
   ]
  },
  {
   "cell_type": "code",
   "execution_count": 206,
   "id": "8e5c5bd2-c8f1-4808-bc89-814c30d50f04",
   "metadata": {},
   "outputs": [],
   "source": [
    "import utils\n",
    "\n",
    "# get ordered and unordered variables\n",
    "X_train_ordered, X_train_unordered = utils.split_dataframe_by_columns(X_train)\n",
    "X_test_ordered, X_test_unordered = utils.split_dataframe_by_columns(X_test)\n",
    "oot_ordered, oot_unordered = utils.split_dataframe_by_columns(data_full_oot)\n",
    "\n",
    "# combine the train and test data\n",
    "X_train_ordered['DEFAULT_NEXT_12'] = y_train.astype(int)\n",
    "X_test_ordered['DEFAULT_NEXT_12'] = y_test\n",
    "\n"
   ]
  },
  {
   "cell_type": "code",
   "execution_count": 198,
   "id": "7bd6d491-a814-489c-bcc2-4c5ef4f3315c",
   "metadata": {},
   "outputs": [
    {
     "name": "stdout",
     "output_type": "stream",
     "text": [
      "[INFO] creating woe binning ...\n",
      "Binning on 496692 rows and 21 columns in 00:02:12\n"
     ]
    }
   ],
   "source": [
    "breaks_list = {\n",
    "    'NUMBER OF UNITS': [2.5, 3, 3.5],\n",
    "    'CURRENT NON-INTEREST BEARING UPB': [2000,4000],\n",
    "    'DELINQUENCY': [0.5],\n",
    "    'LAST MONTH DELINQUENCY STATUS': [0.5, 1.5],\n",
    "    'MONTHS IN DELINQUENCY PAST 12': [0.5, 1.5, 2.5, 4.5, 6.5]\n",
    "    \n",
    "}\n",
    "\n",
    "bins = sc.woebin(X_train_ordered, y='DEFAULT_NEXT_12',\n",
    "                 min_perc_fine_bin=0.02, # How many bins to cut initially into\n",
    "                 min_perc_coarse_bin=0.05,  # Minimum percentage per final bin\n",
    "                 stop_limit=0.02, # Minimum information value\n",
    "                 max_num_bin=8, # Maximum number of bins\n",
    "                 method='tree',\n",
    "                 breaks_list=breaks_list\n",
    "                 )"
   ]
  },
  {
   "cell_type": "code",
   "execution_count": null,
   "id": "83ba78c4",
   "metadata": {
    "scrolled": true
   },
   "outputs": [],
   "source": [
    "breaks_adj = sc.woebin_adj(X_train_ordered, \"DEFAULT_NEXT_12\", bins, adj_all_var=True)\n",
    "\n",
    "bins_adj = sc.woebin(\n",
    "    X_train_ordered,\n",
    "    y=\"DEFAULT_NEXT_12\",\n",
    "    breaks_list=breaks_adj \n",
    ")\n",
    "\n",
    "train_woe = sc.woebin_ply(X_train_ordered, bins_adj) # Calculate WoE dataset (train)\n",
    "test_woe = sc.woebin_ply(X_test_ordered, bins_adj) # Calculate WoE dataset (test)"
   ]
  },
  {
   "cell_type": "code",
   "execution_count": null,
   "id": "4cf20605-2d27-464b-abc7-54a467043608",
   "metadata": {},
   "outputs": [],
   "source": [
    "# add unordered variables back to the train and test set\n",
    "X_train_model = pd.concat([train_woe, X_train_unordered], axis=1)\n",
    "X_test_model = pd.concat([test_woe, X_test_unordered], axis=1)\n",
    "\n",
    "X_train_model = X_train_model.drop(columns=['DEFAULT_NEXT_12']).fillna(0)\n",
    "y_train_model = train_woe['DEFAULT_NEXT_12']\n",
    "\n",
    "X_test_model = X_test_model.drop(columns=['DEFAULT_NEXT_12']).fillna(0)\n",
    "y_test_model = test_woe['DEFAULT_NEXT_12']\n"
   ]
  },
  {
   "cell_type": "code",
   "execution_count": 213,
   "id": "132fdb3b",
   "metadata": {},
   "outputs": [
    {
     "name": "stdout",
     "output_type": "stream",
     "text": [
      "Timestamp columns in X_train_model:\n",
      "Index([], dtype='object')\n",
      "Float columns in X_train_model:\n",
      "Index(['INTEREST BEARING UPB_woe', 'ORIGINAL DEBT-TO-INCOME (DTI) RATIO_woe',\n",
      "       'REMAINING MONTHS TO LEGAL MATURITY_woe', 'CURRENT ACTUAL UPB_woe',\n",
      "       'CURRENT NON-INTEREST BEARING UPB_woe', 'ORIGINAL INTEREST RATE_woe',\n",
      "       'NUMBER OF UNITS_woe', 'ORIGINAL LOAN-TO-VALUE (LTV)_woe',\n",
      "       'DELINQUENCY_woe', 'CURRENT INTEREST RATE_woe',\n",
      "       'ORIGINAL COMBINED LOAN-TO-VALUE (CLTV)_woe', 'LOAN AGE_woe',\n",
      "       'LAST MONTH DELINQUENCY STATUS_woe', 'CREDIT SCORE_woe',\n",
      "       'ORIGINAL UPB_woe', 'MONTHS IN DELINQUENCY PAST 12_woe',\n",
      "       'ESTIMATED LOAN TO VALUE (ELTV)_woe', 'ORIGINAL LOAN TERM_woe',\n",
      "       'MORTGAGE INSURANCE PERCENTAGE (MI %)_woe', 'NUMBER OF BORROWERS_woe',\n",
      "       'CURRENT LOAN DELINQUENCY STATUS', 'CUMULATIVE MODIFICATION COST',\n",
      "       'CURRENT MONTH MODIFICATION COST', 'POSTAL CODE',\n",
      "       'PROPERTY VALUATION METHOD', 'DEFAULT', 'DEFAULT CUM SUM'],\n",
      "      dtype='object')\n"
     ]
    }
   ],
   "source": [
    "# see which columns in X_train_model are timestamp\n",
    "timestamp_columns = X_train_model.select_dtypes(include=['datetime64[ns]']).columns\n",
    "print(\"Timestamp columns in X_train_model:\")\n",
    "print(timestamp_columns)\n",
    "\n",
    "# find which columns have mixed types\n",
    "# which columns have float types\n",
    "float_columns = X_train_model.select_dtypes(include=['float64']).columns\n",
    "print(\"Float columns in X_train_model:\")\n",
    "print(float_columns)"
   ]
  },
  {
   "cell_type": "code",
   "execution_count": 209,
   "id": "e18a5221-feb3-41e9-abe0-0897da0ef36d",
   "metadata": {},
   "outputs": [
    {
     "ename": "TypeError",
     "evalue": "float() argument must be a string or a number, not 'Timestamp'",
     "output_type": "error",
     "traceback": [
      "\u001b[0;31m---------------------------------------------------------------------------\u001b[0m",
      "\u001b[0;31mTypeError\u001b[0m                                 Traceback (most recent call last)",
      "Input \u001b[0;32mIn [209]\u001b[0m, in \u001b[0;36m<cell line: 19>\u001b[0;34m()\u001b[0m\n\u001b[1;32m      2\u001b[0m \u001b[38;5;28;01mfrom\u001b[39;00m\u001b[38;5;250m \u001b[39m\u001b[38;5;21;01msklearn\u001b[39;00m\u001b[38;5;21;01m.\u001b[39;00m\u001b[38;5;21;01mmetrics\u001b[39;00m\u001b[38;5;250m \u001b[39m\u001b[38;5;28;01mimport\u001b[39;00m roc_auc_score\n\u001b[1;32m      4\u001b[0m model \u001b[38;5;241m=\u001b[39m LogisticRegressionCV(penalty\u001b[38;5;241m=\u001b[39m\u001b[38;5;124m'\u001b[39m\u001b[38;5;124melasticnet\u001b[39m\u001b[38;5;124m'\u001b[39m, \u001b[38;5;66;03m# Type of penalization l1 = lasso, l2 = ridge, elasticnet\u001b[39;00m\n\u001b[1;32m      5\u001b[0m                                      Cs \u001b[38;5;241m=\u001b[39m \u001b[38;5;241m10\u001b[39m,        \u001b[38;5;66;03m# How many parameters to try. Can also be a vector with parameters to try.\u001b[39;00m\n\u001b[1;32m      6\u001b[0m                                      tol\u001b[38;5;241m=\u001b[39m\u001b[38;5;241m0.000001\u001b[39m, \u001b[38;5;66;03m# Tolerance for parameters\u001b[39;00m\n\u001b[0;32m   (...)\u001b[0m\n\u001b[1;32m     16\u001b[0m                                      l1_ratios \u001b[38;5;241m=\u001b[39m np\u001b[38;5;241m.\u001b[39marange(\u001b[38;5;241m0\u001b[39m, \u001b[38;5;241m1.01\u001b[39m, \u001b[38;5;241m0.1\u001b[39m), \u001b[38;5;66;03m# The LASSO / Ridge ratios.\u001b[39;00m\n\u001b[1;32m     17\u001b[0m                                     )\n\u001b[0;32m---> 19\u001b[0m \u001b[43mmodel\u001b[49m\u001b[38;5;241;43m.\u001b[39;49m\u001b[43mfit\u001b[49m\u001b[43m(\u001b[49m\u001b[43mX_train_model\u001b[49m\u001b[43m,\u001b[49m\u001b[43m \u001b[49m\u001b[43my_train_model\u001b[49m\u001b[43m)\u001b[49m\n\u001b[1;32m     21\u001b[0m y_train_pred \u001b[38;5;241m=\u001b[39m model\u001b[38;5;241m.\u001b[39mpredict_proba(X_train_model)[:,\u001b[38;5;241m1\u001b[39m]\n\u001b[1;32m     23\u001b[0m auc_train \u001b[38;5;241m=\u001b[39m roc_auc_score(y_train_model, y_train_pred)\n",
      "File \u001b[0;32m/opt/anaconda3/envs/Python/lib/python3.9/site-packages/sklearn/linear_model/_logistic.py:1792\u001b[0m, in \u001b[0;36mLogisticRegressionCV.fit\u001b[0;34m(self, X, y, sample_weight)\u001b[0m\n\u001b[1;32m   1785\u001b[0m         warnings\u001b[38;5;241m.\u001b[39mwarn(\n\u001b[1;32m   1786\u001b[0m             \u001b[38;5;124m\"\u001b[39m\u001b[38;5;124ml1_ratios parameter is only used when penalty \u001b[39m\u001b[38;5;124m\"\u001b[39m\n\u001b[1;32m   1787\u001b[0m             \u001b[38;5;124m\"\u001b[39m\u001b[38;5;124mis \u001b[39m\u001b[38;5;124m'\u001b[39m\u001b[38;5;124melasticnet\u001b[39m\u001b[38;5;124m'\u001b[39m\u001b[38;5;124m. Got (penalty=\u001b[39m\u001b[38;5;132;01m{}\u001b[39;00m\u001b[38;5;124m)\u001b[39m\u001b[38;5;124m\"\u001b[39m\u001b[38;5;241m.\u001b[39mformat(\u001b[38;5;28mself\u001b[39m\u001b[38;5;241m.\u001b[39mpenalty)\n\u001b[1;32m   1788\u001b[0m         )\n\u001b[1;32m   1790\u001b[0m     l1_ratios_ \u001b[38;5;241m=\u001b[39m [\u001b[38;5;28;01mNone\u001b[39;00m]\n\u001b[0;32m-> 1792\u001b[0m X, y \u001b[38;5;241m=\u001b[39m \u001b[38;5;28;43mself\u001b[39;49m\u001b[38;5;241;43m.\u001b[39;49m\u001b[43m_validate_data\u001b[49m\u001b[43m(\u001b[49m\n\u001b[1;32m   1793\u001b[0m \u001b[43m    \u001b[49m\u001b[43mX\u001b[49m\u001b[43m,\u001b[49m\n\u001b[1;32m   1794\u001b[0m \u001b[43m    \u001b[49m\u001b[43my\u001b[49m\u001b[43m,\u001b[49m\n\u001b[1;32m   1795\u001b[0m \u001b[43m    \u001b[49m\u001b[43maccept_sparse\u001b[49m\u001b[38;5;241;43m=\u001b[39;49m\u001b[38;5;124;43m\"\u001b[39;49m\u001b[38;5;124;43mcsr\u001b[39;49m\u001b[38;5;124;43m\"\u001b[39;49m\u001b[43m,\u001b[49m\n\u001b[1;32m   1796\u001b[0m \u001b[43m    \u001b[49m\u001b[43mdtype\u001b[49m\u001b[38;5;241;43m=\u001b[39;49m\u001b[43mnp\u001b[49m\u001b[38;5;241;43m.\u001b[39;49m\u001b[43mfloat64\u001b[49m\u001b[43m,\u001b[49m\n\u001b[1;32m   1797\u001b[0m \u001b[43m    \u001b[49m\u001b[43morder\u001b[49m\u001b[38;5;241;43m=\u001b[39;49m\u001b[38;5;124;43m\"\u001b[39;49m\u001b[38;5;124;43mC\u001b[39;49m\u001b[38;5;124;43m\"\u001b[39;49m\u001b[43m,\u001b[49m\n\u001b[1;32m   1798\u001b[0m \u001b[43m    \u001b[49m\u001b[43maccept_large_sparse\u001b[49m\u001b[38;5;241;43m=\u001b[39;49m\u001b[43msolver\u001b[49m\u001b[43m \u001b[49m\u001b[38;5;129;43;01mnot\u001b[39;49;00m\u001b[43m \u001b[49m\u001b[38;5;129;43;01min\u001b[39;49;00m\u001b[43m \u001b[49m\u001b[43m[\u001b[49m\u001b[38;5;124;43m\"\u001b[39;49m\u001b[38;5;124;43mliblinear\u001b[39;49m\u001b[38;5;124;43m\"\u001b[39;49m\u001b[43m,\u001b[49m\u001b[43m \u001b[49m\u001b[38;5;124;43m\"\u001b[39;49m\u001b[38;5;124;43msag\u001b[39;49m\u001b[38;5;124;43m\"\u001b[39;49m\u001b[43m,\u001b[49m\u001b[43m \u001b[49m\u001b[38;5;124;43m\"\u001b[39;49m\u001b[38;5;124;43msaga\u001b[39;49m\u001b[38;5;124;43m\"\u001b[39;49m\u001b[43m]\u001b[49m\u001b[43m,\u001b[49m\n\u001b[1;32m   1799\u001b[0m \u001b[43m\u001b[49m\u001b[43m)\u001b[49m\n\u001b[1;32m   1800\u001b[0m check_classification_targets(y)\n\u001b[1;32m   1802\u001b[0m class_weight \u001b[38;5;241m=\u001b[39m \u001b[38;5;28mself\u001b[39m\u001b[38;5;241m.\u001b[39mclass_weight\n",
      "File \u001b[0;32m/opt/anaconda3/envs/Python/lib/python3.9/site-packages/sklearn/base.py:565\u001b[0m, in \u001b[0;36mBaseEstimator._validate_data\u001b[0;34m(self, X, y, reset, validate_separately, **check_params)\u001b[0m\n\u001b[1;32m    563\u001b[0m         y \u001b[38;5;241m=\u001b[39m check_array(y, input_name\u001b[38;5;241m=\u001b[39m\u001b[38;5;124m\"\u001b[39m\u001b[38;5;124my\u001b[39m\u001b[38;5;124m\"\u001b[39m, \u001b[38;5;241m*\u001b[39m\u001b[38;5;241m*\u001b[39mcheck_y_params)\n\u001b[1;32m    564\u001b[0m     \u001b[38;5;28;01melse\u001b[39;00m:\n\u001b[0;32m--> 565\u001b[0m         X, y \u001b[38;5;241m=\u001b[39m \u001b[43mcheck_X_y\u001b[49m\u001b[43m(\u001b[49m\u001b[43mX\u001b[49m\u001b[43m,\u001b[49m\u001b[43m \u001b[49m\u001b[43my\u001b[49m\u001b[43m,\u001b[49m\u001b[43m \u001b[49m\u001b[38;5;241;43m*\u001b[39;49m\u001b[38;5;241;43m*\u001b[39;49m\u001b[43mcheck_params\u001b[49m\u001b[43m)\u001b[49m\n\u001b[1;32m    566\u001b[0m     out \u001b[38;5;241m=\u001b[39m X, y\n\u001b[1;32m    568\u001b[0m \u001b[38;5;28;01mif\u001b[39;00m \u001b[38;5;129;01mnot\u001b[39;00m no_val_X \u001b[38;5;129;01mand\u001b[39;00m check_params\u001b[38;5;241m.\u001b[39mget(\u001b[38;5;124m\"\u001b[39m\u001b[38;5;124mensure_2d\u001b[39m\u001b[38;5;124m\"\u001b[39m, \u001b[38;5;28;01mTrue\u001b[39;00m):\n",
      "File \u001b[0;32m/opt/anaconda3/envs/Python/lib/python3.9/site-packages/sklearn/utils/validation.py:1106\u001b[0m, in \u001b[0;36mcheck_X_y\u001b[0;34m(X, y, accept_sparse, accept_large_sparse, dtype, order, copy, force_all_finite, ensure_2d, allow_nd, multi_output, ensure_min_samples, ensure_min_features, y_numeric, estimator)\u001b[0m\n\u001b[1;32m   1101\u001b[0m         estimator_name \u001b[38;5;241m=\u001b[39m _check_estimator_name(estimator)\n\u001b[1;32m   1102\u001b[0m     \u001b[38;5;28;01mraise\u001b[39;00m \u001b[38;5;167;01mValueError\u001b[39;00m(\n\u001b[1;32m   1103\u001b[0m         \u001b[38;5;124mf\u001b[39m\u001b[38;5;124m\"\u001b[39m\u001b[38;5;132;01m{\u001b[39;00mestimator_name\u001b[38;5;132;01m}\u001b[39;00m\u001b[38;5;124m requires y to be passed, but the target y is None\u001b[39m\u001b[38;5;124m\"\u001b[39m\n\u001b[1;32m   1104\u001b[0m     )\n\u001b[0;32m-> 1106\u001b[0m X \u001b[38;5;241m=\u001b[39m \u001b[43mcheck_array\u001b[49m\u001b[43m(\u001b[49m\n\u001b[1;32m   1107\u001b[0m \u001b[43m    \u001b[49m\u001b[43mX\u001b[49m\u001b[43m,\u001b[49m\n\u001b[1;32m   1108\u001b[0m \u001b[43m    \u001b[49m\u001b[43maccept_sparse\u001b[49m\u001b[38;5;241;43m=\u001b[39;49m\u001b[43maccept_sparse\u001b[49m\u001b[43m,\u001b[49m\n\u001b[1;32m   1109\u001b[0m \u001b[43m    \u001b[49m\u001b[43maccept_large_sparse\u001b[49m\u001b[38;5;241;43m=\u001b[39;49m\u001b[43maccept_large_sparse\u001b[49m\u001b[43m,\u001b[49m\n\u001b[1;32m   1110\u001b[0m \u001b[43m    \u001b[49m\u001b[43mdtype\u001b[49m\u001b[38;5;241;43m=\u001b[39;49m\u001b[43mdtype\u001b[49m\u001b[43m,\u001b[49m\n\u001b[1;32m   1111\u001b[0m \u001b[43m    \u001b[49m\u001b[43morder\u001b[49m\u001b[38;5;241;43m=\u001b[39;49m\u001b[43morder\u001b[49m\u001b[43m,\u001b[49m\n\u001b[1;32m   1112\u001b[0m \u001b[43m    \u001b[49m\u001b[43mcopy\u001b[49m\u001b[38;5;241;43m=\u001b[39;49m\u001b[43mcopy\u001b[49m\u001b[43m,\u001b[49m\n\u001b[1;32m   1113\u001b[0m \u001b[43m    \u001b[49m\u001b[43mforce_all_finite\u001b[49m\u001b[38;5;241;43m=\u001b[39;49m\u001b[43mforce_all_finite\u001b[49m\u001b[43m,\u001b[49m\n\u001b[1;32m   1114\u001b[0m \u001b[43m    \u001b[49m\u001b[43mensure_2d\u001b[49m\u001b[38;5;241;43m=\u001b[39;49m\u001b[43mensure_2d\u001b[49m\u001b[43m,\u001b[49m\n\u001b[1;32m   1115\u001b[0m \u001b[43m    \u001b[49m\u001b[43mallow_nd\u001b[49m\u001b[38;5;241;43m=\u001b[39;49m\u001b[43mallow_nd\u001b[49m\u001b[43m,\u001b[49m\n\u001b[1;32m   1116\u001b[0m \u001b[43m    \u001b[49m\u001b[43mensure_min_samples\u001b[49m\u001b[38;5;241;43m=\u001b[39;49m\u001b[43mensure_min_samples\u001b[49m\u001b[43m,\u001b[49m\n\u001b[1;32m   1117\u001b[0m \u001b[43m    \u001b[49m\u001b[43mensure_min_features\u001b[49m\u001b[38;5;241;43m=\u001b[39;49m\u001b[43mensure_min_features\u001b[49m\u001b[43m,\u001b[49m\n\u001b[1;32m   1118\u001b[0m \u001b[43m    \u001b[49m\u001b[43mestimator\u001b[49m\u001b[38;5;241;43m=\u001b[39;49m\u001b[43mestimator\u001b[49m\u001b[43m,\u001b[49m\n\u001b[1;32m   1119\u001b[0m \u001b[43m    \u001b[49m\u001b[43minput_name\u001b[49m\u001b[38;5;241;43m=\u001b[39;49m\u001b[38;5;124;43m\"\u001b[39;49m\u001b[38;5;124;43mX\u001b[39;49m\u001b[38;5;124;43m\"\u001b[39;49m\u001b[43m,\u001b[49m\n\u001b[1;32m   1120\u001b[0m \u001b[43m\u001b[49m\u001b[43m)\u001b[49m\n\u001b[1;32m   1122\u001b[0m y \u001b[38;5;241m=\u001b[39m _check_y(y, multi_output\u001b[38;5;241m=\u001b[39mmulti_output, y_numeric\u001b[38;5;241m=\u001b[39my_numeric, estimator\u001b[38;5;241m=\u001b[39mestimator)\n\u001b[1;32m   1124\u001b[0m check_consistent_length(X, y)\n",
      "File \u001b[0;32m/opt/anaconda3/envs/Python/lib/python3.9/site-packages/sklearn/utils/validation.py:879\u001b[0m, in \u001b[0;36mcheck_array\u001b[0;34m(array, accept_sparse, accept_large_sparse, dtype, order, copy, force_all_finite, ensure_2d, allow_nd, ensure_min_samples, ensure_min_features, estimator, input_name)\u001b[0m\n\u001b[1;32m    877\u001b[0m         array \u001b[38;5;241m=\u001b[39m xp\u001b[38;5;241m.\u001b[39mastype(array, dtype, copy\u001b[38;5;241m=\u001b[39m\u001b[38;5;28;01mFalse\u001b[39;00m)\n\u001b[1;32m    878\u001b[0m     \u001b[38;5;28;01melse\u001b[39;00m:\n\u001b[0;32m--> 879\u001b[0m         array \u001b[38;5;241m=\u001b[39m \u001b[43m_asarray_with_order\u001b[49m\u001b[43m(\u001b[49m\u001b[43marray\u001b[49m\u001b[43m,\u001b[49m\u001b[43m \u001b[49m\u001b[43morder\u001b[49m\u001b[38;5;241;43m=\u001b[39;49m\u001b[43morder\u001b[49m\u001b[43m,\u001b[49m\u001b[43m \u001b[49m\u001b[43mdtype\u001b[49m\u001b[38;5;241;43m=\u001b[39;49m\u001b[43mdtype\u001b[49m\u001b[43m,\u001b[49m\u001b[43m \u001b[49m\u001b[43mxp\u001b[49m\u001b[38;5;241;43m=\u001b[39;49m\u001b[43mxp\u001b[49m\u001b[43m)\u001b[49m\n\u001b[1;32m    880\u001b[0m \u001b[38;5;28;01mexcept\u001b[39;00m ComplexWarning \u001b[38;5;28;01mas\u001b[39;00m complex_warning:\n\u001b[1;32m    881\u001b[0m     \u001b[38;5;28;01mraise\u001b[39;00m \u001b[38;5;167;01mValueError\u001b[39;00m(\n\u001b[1;32m    882\u001b[0m         \u001b[38;5;124m\"\u001b[39m\u001b[38;5;124mComplex data not supported\u001b[39m\u001b[38;5;130;01m\\n\u001b[39;00m\u001b[38;5;132;01m{}\u001b[39;00m\u001b[38;5;130;01m\\n\u001b[39;00m\u001b[38;5;124m\"\u001b[39m\u001b[38;5;241m.\u001b[39mformat(array)\n\u001b[1;32m    883\u001b[0m     ) \u001b[38;5;28;01mfrom\u001b[39;00m\u001b[38;5;250m \u001b[39m\u001b[38;5;21;01mcomplex_warning\u001b[39;00m\n",
      "File \u001b[0;32m/opt/anaconda3/envs/Python/lib/python3.9/site-packages/sklearn/utils/_array_api.py:185\u001b[0m, in \u001b[0;36m_asarray_with_order\u001b[0;34m(array, dtype, order, copy, xp)\u001b[0m\n\u001b[1;32m    182\u001b[0m     xp, _ \u001b[38;5;241m=\u001b[39m get_namespace(array)\n\u001b[1;32m    183\u001b[0m \u001b[38;5;28;01mif\u001b[39;00m xp\u001b[38;5;241m.\u001b[39m\u001b[38;5;18m__name__\u001b[39m \u001b[38;5;129;01min\u001b[39;00m {\u001b[38;5;124m\"\u001b[39m\u001b[38;5;124mnumpy\u001b[39m\u001b[38;5;124m\"\u001b[39m, \u001b[38;5;124m\"\u001b[39m\u001b[38;5;124mnumpy.array_api\u001b[39m\u001b[38;5;124m\"\u001b[39m}:\n\u001b[1;32m    184\u001b[0m     \u001b[38;5;66;03m# Use NumPy API to support order\u001b[39;00m\n\u001b[0;32m--> 185\u001b[0m     array \u001b[38;5;241m=\u001b[39m \u001b[43mnumpy\u001b[49m\u001b[38;5;241;43m.\u001b[39;49m\u001b[43masarray\u001b[49m\u001b[43m(\u001b[49m\u001b[43marray\u001b[49m\u001b[43m,\u001b[49m\u001b[43m \u001b[49m\u001b[43morder\u001b[49m\u001b[38;5;241;43m=\u001b[39;49m\u001b[43morder\u001b[49m\u001b[43m,\u001b[49m\u001b[43m \u001b[49m\u001b[43mdtype\u001b[49m\u001b[38;5;241;43m=\u001b[39;49m\u001b[43mdtype\u001b[49m\u001b[43m)\u001b[49m\n\u001b[1;32m    186\u001b[0m     \u001b[38;5;28;01mreturn\u001b[39;00m xp\u001b[38;5;241m.\u001b[39masarray(array, copy\u001b[38;5;241m=\u001b[39mcopy)\n\u001b[1;32m    187\u001b[0m \u001b[38;5;28;01melse\u001b[39;00m:\n",
      "File \u001b[0;32m/opt/anaconda3/envs/Python/lib/python3.9/site-packages/pandas/core/generic.py:2070\u001b[0m, in \u001b[0;36mNDFrame.__array__\u001b[0;34m(self, dtype)\u001b[0m\n\u001b[1;32m   2069\u001b[0m \u001b[38;5;28;01mdef\u001b[39;00m\u001b[38;5;250m \u001b[39m\u001b[38;5;21m__array__\u001b[39m(\u001b[38;5;28mself\u001b[39m, dtype: npt\u001b[38;5;241m.\u001b[39mDTypeLike \u001b[38;5;241m|\u001b[39m \u001b[38;5;28;01mNone\u001b[39;00m \u001b[38;5;241m=\u001b[39m \u001b[38;5;28;01mNone\u001b[39;00m) \u001b[38;5;241m-\u001b[39m\u001b[38;5;241m>\u001b[39m np\u001b[38;5;241m.\u001b[39mndarray:\n\u001b[0;32m-> 2070\u001b[0m     \u001b[38;5;28;01mreturn\u001b[39;00m \u001b[43mnp\u001b[49m\u001b[38;5;241;43m.\u001b[39;49m\u001b[43masarray\u001b[49m\u001b[43m(\u001b[49m\u001b[38;5;28;43mself\u001b[39;49m\u001b[38;5;241;43m.\u001b[39;49m\u001b[43m_values\u001b[49m\u001b[43m,\u001b[49m\u001b[43m \u001b[49m\u001b[43mdtype\u001b[49m\u001b[38;5;241;43m=\u001b[39;49m\u001b[43mdtype\u001b[49m\u001b[43m)\u001b[49m\n",
      "\u001b[0;31mTypeError\u001b[0m: float() argument must be a string or a number, not 'Timestamp'"
     ]
    }
   ],
   "source": [
    "from sklearn.linear_model import LogisticRegressionCV\n",
    "from sklearn.metrics import roc_auc_score\n",
    "\n",
    "model = LogisticRegressionCV(penalty='elasticnet', # Type of penalization l1 = lasso, l2 = ridge, elasticnet\n",
    "                                     Cs = 10,        # How many parameters to try. Can also be a vector with parameters to try.\n",
    "                                     tol=0.000001, # Tolerance for parameters\n",
    "                                     cv = 3,     # How many CV folds to try. 3 or 5 should be enough.\n",
    "                                     fit_intercept=True, # Use constant?\n",
    "                                     class_weight='balanced', # Weights, see below\n",
    "                                     random_state=20190301, # Random seed\n",
    "                                     max_iter=100, # Maximum iterations\n",
    "                                     verbose=0, # Show process. 1 is yes.\n",
    "                                     solver = 'saga', # How to optimize.\n",
    "                                     n_jobs = -1,      # Processes to use. Set to number of physical cores.\n",
    "                                     refit = True,     # If to retrain with the best parameter and all data after finishing.\n",
    "                                     l1_ratios = np.arange(0, 1.01, 0.1), # The LASSO / Ridge ratios.\n",
    "                                    )\n",
    "\n",
    "model.fit(X_train_model, y_train_model)\n",
    "\n",
    "y_train_pred = model.predict_proba(X_train_model)[:,1]\n",
    "\n",
    "auc_train = roc_auc_score(y_train_model, y_train_pred)\n",
    "\n",
    "y_test_pred = model.predict_proba(X_test_model)[:, 1]\n",
    "auc_test = roc_auc_score(y_test_model, y_test_pred)\n",
    "print(f\" AUC on test set: {auc_test:.4f}\")"
   ]
  },
  {
   "cell_type": "code",
   "execution_count": 67,
   "id": "25c89a71-db6c-443b-b732-aee1fc630ef3",
   "metadata": {},
   "outputs": [
    {
     "name": "stdout",
     "output_type": "stream",
     "text": [
      " AUC on train set: 0.8411\n"
     ]
    }
   ],
   "source": [
    "y_train_pred = model.predict_proba(X_train_model)[:,1]\n",
    "\n",
    "auc_train = roc_auc_score(y_train_model, y_train_pred)\n",
    "print(f\" AUC on train set: {auc_train:.4f}\")"
   ]
  },
  {
   "cell_type": "code",
   "execution_count": 68,
   "id": "75316c0d-7ee0-4a29-9fe6-067515bb6db8",
   "metadata": {},
   "outputs": [],
   "source": [
    "from sklearn.metrics import roc_auc_score\n",
    "\n",
    "# make predictions\n",
    "probs_test = model.predict_proba(X_test_model)[:, 1]\n",
    "\n",
    "# Calculate bootstrap\n",
    "test_preds = pd.DataFrame({'classes': y_test_model,\n",
    "                           'probs': probs_test})\n",
    "auc_boot = []\n",
    "\n",
    "# Use 10,000 samples for IRL applications\n",
    "for i in np.arange(100):\n",
    "  sample = test_preds.sample(n=186260, replace=True)\n",
    "  auc_boot.append(roc_auc_score(sample['classes'], sample['probs']))"
   ]
  },
  {
   "cell_type": "code",
   "execution_count": 69,
   "id": "02945044-ce45-4431-82f7-a24e48de4b59",
   "metadata": {},
   "outputs": [
    {
     "name": "stdout",
     "output_type": "stream",
     "text": [
      "0.8486078275049731\n"
     ]
    },
    {
     "data": {
      "text/plain": [
       "array([0.83982028, 0.85492788])"
      ]
     },
     "execution_count": 69,
     "metadata": {},
     "output_type": "execute_result"
    },
    {
     "data": {
      "image/png": "[encoded data removed]",
      "text/plain": [
       "<Figure size 432x288 with 1 Axes>"
      ]
     },
     "metadata": {
      "needs_background": "light"
     },
     "output_type": "display_data"
    }
   ],
   "source": [
    "plt.hist(auc_boot)\n",
    "\n",
    "print(np.mean(auc_boot))\n",
    "\n",
    "np.quantile(auc_boot, [0.025, 0.975])"
   ]
  },
  {
   "cell_type": "code",
   "execution_count": null,
   "id": "c774652e",
   "metadata": {},
   "outputs": [],
   "source": [
    "# coefficients in scorecard\n",
    "def ab(points0=600, odds0=1/19, pdo=50):\n",
    "    b = pdo/np.log(2)\n",
    "    a = points0 + b*np.log(odds0) #log(odds0/(1+odds0))\n",
    "    return {'a':a, 'b':b}\n",
    "\n",
    "def scorecard(bins, model, xcolumns, points0=600, odds0=1/19, pdo=50, basepoints_eq0=False, digits=0):\n",
    "    # coefficients\n",
    "    aabb = ab(points0, odds0, pdo)\n",
    "    a = aabb['a'] \n",
    "    b = aabb['b']\n",
    "    # odds = pred/(1-pred); score = a - b*log(odds)\n",
    "    \n",
    "    # bins # if (is.list(bins)) rbindlist(bins)\n",
    "    if isinstance(bins, dict):\n",
    "        bins = pd.concat(bins, ignore_index=True)\n",
    "    xs = [re.sub('_woe$', '', i) for i in xcolumns]\n",
    "    # coefficients\n",
    "    coef_df = pd.Series(model.coef_[0], index=np.array(xs))\\\n",
    "      .loc[lambda x: x != 0]#.reset_index(drop=True)\n",
    "    \n",
    "    # scorecard\n",
    "    len_x = len(coef_df)\n",
    "    basepoints = a - b*model.intercept_[0]\n",
    "    card = {}\n",
    "    if basepoints_eq0:\n",
    "        card['basepoints'] = pd.DataFrame({'variable':\"basepoints\", 'bin':np.nan, 'points':0}, index=np.arange(1))\n",
    "        for i in coef_df.index:\n",
    "            card[i] = bins.loc[bins['variable']==i,['variable', 'bin', 'woe']]\\\n",
    "              .assign(points = lambda x: round(-b*x['woe']*coef_df[i] + basepoints/len_x), ndigits=digits)\\\n",
    "              [[\"variable\", \"bin\", \"points\"]]\n",
    "    else:\n",
    "        card['basepoints'] = pd.DataFrame({'variable':\"basepoints\", 'bin':np.nan, 'points':round(basepoints, ndigits=digits)}, index=np.arange(1))\n",
    "        for i in coef_df.index:\n",
    "            card[i] = bins.loc[bins['variable']==i,['variable', 'bin', 'woe']]\\\n",
    "              .assign(points = lambda x: round(-b*x['woe']*coef_df[i]), ndigits=digits)\\\n",
    "              [[\"variable\", \"bin\", \"points\"]]\n",
    "    return card"
   ]
  },
  {
   "cell_type": "code",
   "execution_count": 134,
   "id": "ca82654d-df45-4b6c-88d2-a9a22b16aa5f",
   "metadata": {},
   "outputs": [],
   "source": [
    "import importlib\n",
    "import scorecardpy as sc\n",
    "\n",
    "model_sc = scorecard(bins_adj, # bins from the WoE\n",
    "                           model,  # Trained logistic regression\n",
    "                           X_train_model.columns, # The column names in the trained LR\n",
    "                           points0=750, # Base points\n",
    "                           odds0=0.02, # Base odds bads:goods\n",
    "                           pdo=100 # PDO\n",
    "                           )\n",
    "\n",
    "train_score = sc.scorecard_ply(X_train, model_sc,\n",
    "                               print_step=0)\n",
    "\n",
    "test_score = sc.scorecard_ply(X_test, model_sc,\n",
    "                               print_step=0)\n",
    "\n",
    "oot_score = sc.scorecard_ply(data_full_oot, model_sc,\n",
    "                               print_step=0)\n",
    "\n"
   ]
  },
  {
   "cell_type": "code",
   "execution_count": 172,
   "id": "b38b7287",
   "metadata": {},
   "outputs": [],
   "source": [
    "cutoffs = range(-2000, 1000, 100)\n",
    "profits = []\n",
    "\n",
    "oot_with_score = data_full_oot.copy()\n",
    "oot_with_score['score'] = oot_score['score'].astype(int)\n",
    "\n",
    "for cut in cutoffs:\n",
    "    approved = oot_with_score[oot_with_score['score'] >= cut]\n",
    "    \n",
    "    good = approved[approved['DEFAULT_NEXT_12'] == 0]\n",
    "    bad = approved[approved['DEFAULT_NEXT_12'] == 1]\n",
    "    \n",
    "    # 收益来自好贷款\n",
    "    income = 0.3 * good['CURRENT INTEREST RATE']/100 * good['CURRENT ACTUAL UPB']\n",
    "    \n",
    "    # 损失来自违约贷款\n",
    "    loss = 0.4 * bad['CURRENT ACTUAL UPB']\n",
    "    \n",
    "    total_profit = income.sum() - loss.sum()\n",
    "    profits.append(total_profit)"
   ]
  },
  {
   "cell_type": "code",
   "execution_count": null,
   "id": "e0e71472",
   "metadata": {},
   "outputs": [],
   "source": []
  },
  {
   "cell_type": "code",
   "execution_count": 173,
   "id": "fa6e03e9",
   "metadata": {},
   "outputs": [
    {
     "data": {
      "image/png": "[encoded data removed]",
      "text/plain": [
       "<Figure size 720x432 with 1 Axes>"
      ]
     },
     "metadata": {
      "needs_background": "light"
     },
     "output_type": "display_data"
    }
   ],
   "source": [
    "# Plotting the profit curve\n",
    "plt.figure(figsize=(10, 6))\n",
    "plt.plot(cutoffs, profits, marker='o')\n",
    "plt.title('Profit Curve')\n",
    "plt.xlabel('Cutoff Score')\n",
    "plt.ylabel('Total Profit')\n",
    "plt.grid()\n",
    "plt.xticks(cutoffs)\n",
    "plt.show()"
   ]
  },
  {
   "cell_type": "code",
   "execution_count": 168,
   "id": "8be4d3f7",
   "metadata": {},
   "outputs": [
    {
     "data": {
      "text/plain": [
       "(array([1.000e+00, 1.000e+00, 4.000e+00, 5.000e+00, 1.100e+01, 2.000e+01,\n",
       "        1.900e+01, 1.800e+01, 1.500e+01, 2.000e+01, 9.000e+00, 4.000e+00,\n",
       "        2.000e+00, 0.000e+00, 2.000e+00, 4.000e+00, 6.000e+00, 9.000e+00,\n",
       "        1.500e+01, 2.400e+01, 1.800e+01, 1.000e+01, 1.800e+01, 1.200e+01,\n",
       "        2.000e+01, 1.400e+01, 2.600e+01, 2.400e+01, 1.600e+01, 2.500e+01,\n",
       "        1.700e+01, 1.300e+01, 1.000e+01, 1.700e+01, 4.400e+01, 1.810e+02,\n",
       "        7.510e+02, 1.636e+03, 2.878e+03, 4.089e+03, 5.125e+03, 5.570e+03,\n",
       "        5.557e+03, 5.094e+03, 4.225e+03, 2.983e+03, 1.971e+03, 1.113e+03,\n",
       "        3.580e+02, 4.500e+01]),\n",
       " array([-5143.  , -5010.82, -4878.64, -4746.46, -4614.28, -4482.1 ,\n",
       "        -4349.92, -4217.74, -4085.56, -3953.38, -3821.2 , -3689.02,\n",
       "        -3556.84, -3424.66, -3292.48, -3160.3 , -3028.12, -2895.94,\n",
       "        -2763.76, -2631.58, -2499.4 , -2367.22, -2235.04, -2102.86,\n",
       "        -1970.68, -1838.5 , -1706.32, -1574.14, -1441.96, -1309.78,\n",
       "        -1177.6 , -1045.42,  -913.24,  -781.06,  -648.88,  -516.7 ,\n",
       "         -384.52,  -252.34,  -120.16,    12.02,   144.2 ,   276.38,\n",
       "          408.56,   540.74,   672.92,   805.1 ,   937.28,  1069.46,\n",
       "         1201.64,  1333.82,  1466.  ]),\n",
       " <BarContainer object of 50 artists>)"
      ]
     },
     "execution_count": 168,
     "metadata": {},
     "output_type": "execute_result"
    },
    {
     "data": {
      "image/png": "[encoded data removed]",
      "text/plain": [
       "<Figure size 432x288 with 1 Axes>"
      ]
     },
     "metadata": {
      "needs_background": "light"
     },
     "output_type": "display_data"
    }
   ],
   "source": [
    "plt.hist(oot_score, bins=50)"
   ]
  },
  {
   "cell_type": "code",
   "execution_count": 174,
   "id": "c412fb36",
   "metadata": {},
   "outputs": [
    {
     "data": {
      "image/png": "[encoded data removed]",
      "text/plain": [
       "<Figure size 720x432 with 1 Axes>"
      ]
     },
     "metadata": {
      "needs_background": "light"
     },
     "output_type": "display_data"
    }
   ],
   "source": [
    "# create auc curve for the logistic regressoin model \n",
    "\n",
    "from sklearn.metrics import roc_curve, auc\n",
    "from sklearn.metrics import roc_curve, auc\n",
    "\n",
    "# Calculate ROC curve\n",
    "fpr, tpr, thresholds = roc_curve(y_test_model, y_test_pred)\n",
    "roc_auc = auc(fpr, tpr)\n",
    "plt.figure(figsize=(10, 6))\n",
    "plt.plot(fpr, tpr, color='blue', label='ROC curve (area = %0.2f)' % roc_auc)\n",
    "plt.plot([0, 1], [0, 1], color='red', linestyle='--')\n",
    "plt.xlim([0.0, 1.0])\n",
    "plt.ylim([0.0, 1.05])\n",
    "plt.xlabel('False Positive Rate')\n",
    "plt.ylabel('True Positive Rate')\n",
    "plt.title('Receiver Operating Characteristic')\n",
    "plt.legend(loc='lower right')\n",
    "plt.grid()\n",
    "plt.show()\n"
   ]
  },
  {
   "cell_type": "code",
   "execution_count": null,
   "id": "70868414",
   "metadata": {},
   "outputs": [
    {
     "ename": "KeyError",
     "evalue": "'prob_default'",
     "output_type": "error",
     "traceback": [
      "\u001b[0;31m---------------------------------------------------------------------------\u001b[0m",
      "\u001b[0;31mKeyError\u001b[0m                                  Traceback (most recent call last)",
      "File \u001b[0;32m/opt/anaconda3/envs/Python/lib/python3.9/site-packages/pandas/core/indexes/base.py:3802\u001b[0m, in \u001b[0;36mIndex.get_loc\u001b[0;34m(self, key, method, tolerance)\u001b[0m\n\u001b[1;32m   3801\u001b[0m \u001b[38;5;28;01mtry\u001b[39;00m:\n\u001b[0;32m-> 3802\u001b[0m     \u001b[38;5;28;01mreturn\u001b[39;00m \u001b[38;5;28;43mself\u001b[39;49m\u001b[38;5;241;43m.\u001b[39;49m\u001b[43m_engine\u001b[49m\u001b[38;5;241;43m.\u001b[39;49m\u001b[43mget_loc\u001b[49m\u001b[43m(\u001b[49m\u001b[43mcasted_key\u001b[49m\u001b[43m)\u001b[49m\n\u001b[1;32m   3803\u001b[0m \u001b[38;5;28;01mexcept\u001b[39;00m \u001b[38;5;167;01mKeyError\u001b[39;00m \u001b[38;5;28;01mas\u001b[39;00m err:\n",
      "File \u001b[0;32m/opt/anaconda3/envs/Python/lib/python3.9/site-packages/pandas/_libs/index.pyx:138\u001b[0m, in \u001b[0;36mpandas._libs.index.IndexEngine.get_loc\u001b[0;34m()\u001b[0m\n",
      "File \u001b[0;32m/opt/anaconda3/envs/Python/lib/python3.9/site-packages/pandas/_libs/index.pyx:165\u001b[0m, in \u001b[0;36mpandas._libs.index.IndexEngine.get_loc\u001b[0;34m()\u001b[0m\n",
      "File \u001b[0;32mpandas/_libs/hashtable_class_helper.pxi:5745\u001b[0m, in \u001b[0;36mpandas._libs.hashtable.PyObjectHashTable.get_item\u001b[0;34m()\u001b[0m\n",
      "File \u001b[0;32mpandas/_libs/hashtable_class_helper.pxi:5753\u001b[0m, in \u001b[0;36mpandas._libs.hashtable.PyObjectHashTable.get_item\u001b[0;34m()\u001b[0m\n",
      "\u001b[0;31mKeyError\u001b[0m: 'prob_default'",
      "\nThe above exception was the direct cause of the following exception:\n",
      "\u001b[0;31mKeyError\u001b[0m                                  Traceback (most recent call last)",
      "Input \u001b[0;32mIn [189]\u001b[0m, in \u001b[0;36m<cell line: 6>\u001b[0;34m()\u001b[0m\n\u001b[1;32m      3\u001b[0m \u001b[38;5;28;01mimport\u001b[39;00m\u001b[38;5;250m \u001b[39m\u001b[38;5;21;01mmatplotlib\u001b[39;00m\u001b[38;5;21;01m.\u001b[39;00m\u001b[38;5;21;01mpyplot\u001b[39;00m\u001b[38;5;250m \u001b[39m\u001b[38;5;28;01mas\u001b[39;00m\u001b[38;5;250m \u001b[39m\u001b[38;5;21;01mplt\u001b[39;00m\n\u001b[1;32m      5\u001b[0m \u001b[38;5;66;03m# Step 1: 取出预测值和真实违约标签\u001b[39;00m\n\u001b[0;32m----> 6\u001b[0m x \u001b[38;5;241m=\u001b[39m \u001b[43mdata_full\u001b[49m\u001b[43m[\u001b[49m\u001b[38;5;124;43m'\u001b[39;49m\u001b[38;5;124;43mprob_default\u001b[39;49m\u001b[38;5;124;43m'\u001b[39;49m\u001b[43m]\u001b[49m\u001b[38;5;241m.\u001b[39mvalues\n\u001b[1;32m      7\u001b[0m y \u001b[38;5;241m=\u001b[39m data_full[\u001b[38;5;124m'\u001b[39m\u001b[38;5;124mDEFAULT_NEXT_12\u001b[39m\u001b[38;5;124m'\u001b[39m]\u001b[38;5;241m.\u001b[39mvalues\n\u001b[1;32m      9\u001b[0m \u001b[38;5;66;03m# Step 2: 拟合 piecewise linear model（你可以从2-5段中选择，老师用了4段）\u001b[39;00m\n",
      "File \u001b[0;32m/opt/anaconda3/envs/Python/lib/python3.9/site-packages/pandas/core/frame.py:3807\u001b[0m, in \u001b[0;36mDataFrame.__getitem__\u001b[0;34m(self, key)\u001b[0m\n\u001b[1;32m   3805\u001b[0m \u001b[38;5;28;01mif\u001b[39;00m \u001b[38;5;28mself\u001b[39m\u001b[38;5;241m.\u001b[39mcolumns\u001b[38;5;241m.\u001b[39mnlevels \u001b[38;5;241m>\u001b[39m \u001b[38;5;241m1\u001b[39m:\n\u001b[1;32m   3806\u001b[0m     \u001b[38;5;28;01mreturn\u001b[39;00m \u001b[38;5;28mself\u001b[39m\u001b[38;5;241m.\u001b[39m_getitem_multilevel(key)\n\u001b[0;32m-> 3807\u001b[0m indexer \u001b[38;5;241m=\u001b[39m \u001b[38;5;28;43mself\u001b[39;49m\u001b[38;5;241;43m.\u001b[39;49m\u001b[43mcolumns\u001b[49m\u001b[38;5;241;43m.\u001b[39;49m\u001b[43mget_loc\u001b[49m\u001b[43m(\u001b[49m\u001b[43mkey\u001b[49m\u001b[43m)\u001b[49m\n\u001b[1;32m   3808\u001b[0m \u001b[38;5;28;01mif\u001b[39;00m is_integer(indexer):\n\u001b[1;32m   3809\u001b[0m     indexer \u001b[38;5;241m=\u001b[39m [indexer]\n",
      "File \u001b[0;32m/opt/anaconda3/envs/Python/lib/python3.9/site-packages/pandas/core/indexes/base.py:3804\u001b[0m, in \u001b[0;36mIndex.get_loc\u001b[0;34m(self, key, method, tolerance)\u001b[0m\n\u001b[1;32m   3802\u001b[0m     \u001b[38;5;28;01mreturn\u001b[39;00m \u001b[38;5;28mself\u001b[39m\u001b[38;5;241m.\u001b[39m_engine\u001b[38;5;241m.\u001b[39mget_loc(casted_key)\n\u001b[1;32m   3803\u001b[0m \u001b[38;5;28;01mexcept\u001b[39;00m \u001b[38;5;167;01mKeyError\u001b[39;00m \u001b[38;5;28;01mas\u001b[39;00m err:\n\u001b[0;32m-> 3804\u001b[0m     \u001b[38;5;28;01mraise\u001b[39;00m \u001b[38;5;167;01mKeyError\u001b[39;00m(key) \u001b[38;5;28;01mfrom\u001b[39;00m\u001b[38;5;250m \u001b[39m\u001b[38;5;21;01merr\u001b[39;00m\n\u001b[1;32m   3805\u001b[0m \u001b[38;5;28;01mexcept\u001b[39;00m \u001b[38;5;167;01mTypeError\u001b[39;00m:\n\u001b[1;32m   3806\u001b[0m     \u001b[38;5;66;03m# If we have a listlike key, _check_indexing_error will raise\u001b[39;00m\n\u001b[1;32m   3807\u001b[0m     \u001b[38;5;66;03m#  InvalidIndexError. Otherwise we fall through and re-raise\u001b[39;00m\n\u001b[1;32m   3808\u001b[0m     \u001b[38;5;66;03m#  the TypeError.\u001b[39;00m\n\u001b[1;32m   3809\u001b[0m     \u001b[38;5;28mself\u001b[39m\u001b[38;5;241m.\u001b[39m_check_indexing_error(key)\n",
      "\u001b[0;31mKeyError\u001b[0m: 'prob_default'"
     ]
    }
   ],
   "source": [
    "import pwlf\n",
    "import numpy as np\n",
    "import matplotlib.pyplot as plt\n",
    "\n",
    "\n",
    "# Step 1: 取出预测值和真实违约标签\n",
    "x = data_full['prob_default'].values\n",
    "y = data_full['DEFAULT_NEXT_12'].values\n",
    "\n",
    "# Step 2: 拟合 piecewise linear model（你可以从2-5段中选择，老师用了4段）\n",
    "model = pwlf.PiecewiseLinFit(x, y)\n",
    "breaks = model.fit(4)  # 你可以改成 3 或 5 看效果\n",
    "print(\"⚡ Segmentation breakpoints based on pwlf:\", breaks)\n",
    "\n",
    "# Step 3: 用 breakpoints 将所有样本分组\n",
    "def assign_segment(val, breaks):\n",
    "    for i in range(len(breaks)-1):\n",
    "        if breaks[i] <= val < breaks[i+1]:\n",
    "            return f\"Segment {i+1}\"\n",
    "    return f\"Segment {len(breaks)-1}\"  # for the last bin\n",
    "\n",
    "data_full['SEGMENT'] = data_full['prob_default'].apply(lambda p: assign_segment(p, breaks))\n",
    "\n",
    "# Step 4: 可视化拟合结果\n",
    "x_hat = np.linspace(min(x), max(x), 100)\n",
    "y_hat = model.predict(x_hat)\n",
    "\n",
    "plt.figure(figsize=(10,6))\n",
    "plt.plot(x, y, '.', alpha=0.3, label='Data')\n",
    "plt.plot(x_hat, y_hat, color='red', lw=2, label='Piecewise Linear Fit')\n",
    "for bp in breaks[1:-1]:  # draw vertical lines at breakpoints\n",
    "    plt.axvline(bp, color='grey', linestyle='--')\n",
    "plt.title(\"Piecewise Linear Fit for PD Segmentation (Q3a)\")\n",
    "plt.xlabel(\"Predicted PD (Behavioural Model)\")\n",
    "plt.ylabel(\"Actual Default Indicator\")\n",
    "plt.legend()\n",
    "plt.grid(True)\n",
    "plt.show()"
   ]
  },
  {
   "cell_type": "code",
   "execution_count": null,
   "id": "8a766315",
   "metadata": {},
   "outputs": [],
   "source": [
    "import pwlf\n",
    "\n",
    "from statsmodels.tsa.seasonal import seasonal_decompose\n",
    "from statsmodels.tsa.statespace.sarimax import SARIMAX\n",
    "\n",
    "segment_def_rates = data.groupby(['MONTHLY REPORTING PERIOD', 'SEGMENT'])['DEFAULT_NEXT_12'].mean().reset_index()\n",
    "\n",
    "data_full['SEGMENT'] = pd.qcut(\n",
    "    data_full['prob_default'],\n",
    "    q=5,\n",
    "    labels=['Very Low', 'Low', 'Medium', 'High', 'Very High']\n",
    ")\n"
   ]
  }
 ],
 "metadata": {
  "kernelspec": {
   "display_name": "Python",
   "language": "python",
   "name": "python3"
  },
  "language_info": {
   "codemirror_mode": {
    "name": "ipython",
    "version": 3
   },
   "file_extension": ".py",
   "mimetype": "text/x-python",
   "name": "python",
   "nbconvert_exporter": "python",
   "pygments_lexer": "ipython3",
   "version": "3.9.12"
  }
 },
 "nbformat": 4,
 "nbformat_minor": 5
}
