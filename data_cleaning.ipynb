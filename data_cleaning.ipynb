{
 "cells": [
  {
   "cell_type": "code",
   "execution_count": null,
   "id": "d3e2f1b6",
   "metadata": {},
   "outputs": [
    {
     "name": "stderr",
     "output_type": "stream",
     "text": [
      "/var/folders/q7/dvzw6sn17079c5z05_t3tqpc0000gn/T/ipykernel_47803/1020452982.py:4: DtypeWarning: Columns (26,28) have mixed types. Specify dtype option on import or set low_memory=False.\n",
      "  application = pd.read_csv('/Users/will/Documents/GitHub/consumer-credit-risk/coursework2_application_sampled.csv')\n",
      "/var/folders/q7/dvzw6sn17079c5z05_t3tqpc0000gn/T/ipykernel_47803/1020452982.py:5: DtypeWarning: Columns (3,7,23,24,28,29) have mixed types. Specify dtype option on import or set low_memory=False.\n",
      "  performance = pd.read_csv('/Users/will/Documents/GitHub/consumer-credit-risk/coursework2_performance_data_sampled.csv')\n"
     ]
    }
   ],
   "source": [
    "import pandas as pd\n",
    "import numpy as np\n",
    "\n",
    "application = pd.read_csv('/Users/will/Documents/GitHub/consumer-credit-risk/coursework2_application_sampled.csv')\n",
    "performance = pd.read_csv('/Users/will/Documents/GitHub/consumer-credit-risk/coursework2_performance_data_sampled.csv')\n",
    "\n",
    "# merge the data from the two csvs\n",
    "data_full = performance.merge(application, on='LOAN SEQUENCE NUMBER', how='left')\n",
    "\n",
    "# change monthly reoprting period to datetime\n",
    "data_full['MONTHLY REPORTING PERIOD'] = pd.to_datetime(data_full['MONTHLY REPORTING PERIOD'], format='%Y%m')\n",
    "\n",
    "# if column value is RA then it is 0\n",
    "data_full['CURRENT LOAN DELINQUENCY STATUS'] = data_full['CURRENT LOAN DELINQUENCY STATUS'].apply(lambda x: 0 if x == 'RA' else x)\n",
    "\n",
    "# change to int\n",
    "data_full['CURRENT LOAN DELINQUENCY STATUS'] = data_full['CURRENT LOAN DELINQUENCY STATUS'].astype(int)\n",
    "# change the column CURRENT LOAN DELINQUENCY STATUS\n",
    "# slide 13 4 intro to analytics\n",
    "# if value is less then 3 then it is 0 # else it is 1 # zero represents no default # one represents default\n",
    "data_full['DEFAULT'] = data_full['CURRENT LOAN DELINQUENCY STATUS'].apply(lambda x: 0 if x < 3 else 1)\n",
    "\n",
    "###### feature engineering ########\n",
    "\n",
    "# add boolean for whether loan in delinquency or not \n",
    "data_full['DELINQUENCY'] = data_full['CURRENT LOAN DELINQUENCY STATUS'].apply(lambda x : 1 if x != 0 else 0)\n",
    "\n",
    "# cum sum of the delinquency status\n",
    "data_full['DEFAULT CUM SUM'] = data_full.groupby('LOAN SEQUENCE NUMBER')['DEFAULT'].cumsum()\n",
    "\n",
    "# last month current loan deliquency status\n",
    "data_full['LAST MONTH DELINQUENCY STATUS'] = data_full.groupby('LOAN SEQUENCE NUMBER')['CURRENT LOAN DELINQUENCY STATUS'].shift(1).fillna(0)\n",
    "\n",
    "# rolling 12 months time in deliquency\n",
    "data_full['MONTHS IN DELINQUENCY PAST 12'] = data_full.groupby('LOAN SEQUENCE NUMBER')['DELINQUENCY'].rolling(12, min_periods=1).sum().reset_index(drop=True)\n",
    "\n",
    "# make a function that takes in a pd.series of zeroes and ones and then returns a new series with every 12 before the ones being ones as well\n",
    "def default_next_12(default_vector):\n",
    "     \n",
    "    if np.where(default_vector==1)[0].size==0:\n",
    "        return default_vector\n",
    "     \n",
    "    first_default = np.where(default_vector==1)[0][0]\n",
    "    defualt_next_12_vector = np.zeros(len(default_vector))\n",
    "    defualt_next_12_vector[max(0,first_default-12):] = 1\n",
    "\n",
    "    return(defualt_next_12_vector)\n",
    "\n",
    "default_next_12_col = []\n",
    "\n",
    "# group the data by LOAN SEQUENCE NUMBER\n",
    "for _, group in data_full.groupby('LOAN SEQUENCE NUMBER'):\n",
    "    default_next_12_series = default_next_12(group['DEFAULT'])\n",
    "\n",
    "    default_next_12_col.extend(default_next_12_series)\n",
    "\n",
    "data_full['DEFAULT_NEXT_12'] = [x == 1 for x in default_next_12_col]\n",
    "\n",
    "# remove rows where the cumsum != 0\n",
    "data_full = data_full[data_full['DEFAULT CUM SUM'] == 0]\n",
    "\n",
    "# make training data\n",
    "data_full_train = data_full[data_full['MONTHLY REPORTING PERIOD'] < '2022-06-01']\n",
    "\n",
    "# make test data\n",
    "data_full_oot = data_full[data_full['MONTHLY REPORTING PERIOD'] == '2023-06-01']\n"
   ]
  }
 ],
 "metadata": {
  "kernelspec": {
   "display_name": "Python",
   "language": "python",
   "name": "python3"
  },
  "language_info": {
   "codemirror_mode": {
    "name": "ipython",
    "version": 3
   },
   "file_extension": ".py",
   "mimetype": "text/x-python",
   "name": "python",
   "nbconvert_exporter": "python",
   "pygments_lexer": "ipython3",
   "version": "3.9.12"
  }
 },
 "nbformat": 4,
 "nbformat_minor": 5
}
